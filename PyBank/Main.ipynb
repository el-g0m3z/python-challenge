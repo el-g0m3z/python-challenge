{
 "cells": [
  {
   "cell_type": "code",
   "execution_count": 84,
   "metadata": {},
   "outputs": [],
   "source": [
    "import os\n",
    "import csv\n",
    "\n",
    "csvpath = os.path.join(\"Resources\", \"budget_data.csv\")\n",
    "\n",
    "with open(csvpath, newline=\"\") as csvfile:\n",
    "    csv_header = next(csvfile)\n",
    "    row_count = sum(1 for row in csvfile)\n",
    "\n",
    "with open(csvpath, newline=\"\") as csvfile2:\n",
    "    csv_header = next(csvfile2)\n",
    "    profit_losses = sum(int(r[1]) for r in csv.reader(csvfile2))\n",
    "    average_changes = int(profit_losses / row_count)\n",
    "\n",
    "with open(csvpath, \"r\") as csvfile3:\n",
    "    csv_reader = csv.DictReader(csvfile3)\n",
    "    data = list(csv_reader)\n",
    "    maxProfit = max(data, key=lambda x:x['Profit/Losses'])\n",
    "    minProfit = min(data, key=lambda x:x['Profit/Losses'])\n",
    "\n",
    "    print(\"Financial Analysis\")\n",
    "    print(\"--------------------------\")\n",
    "    print(\"Total Months:\", row_count)\n",
    "    print(\"Total: $\", profit_losses)\n",
    "    print(\"Average Change: $\", average_changes)\n",
    "    print(\"Greatest Increase in Profits:\", maxProfit)\n",
    "    print(\"Greatest Decrease in Profits:\", minProfit)\n",
    "\n",
    "    print(\"Financial Analysis\", file=open(\"output.txt\", \"w\"))\n",
    "    print(\"--------------------------\", file=open(\"output.txt\", \"a\"))\n",
    "    print(\"Total Months:\", row_count, file=open(\"output.txt\", \"a\"))\n",
    "    print(\"Total: $\", profit_losses, file=open(\"output.txt\", \"a\"))\n",
    "    print(\"Average Change: $\", average_changes, file=open(\"output.txt\", \"a\"))\n",
    "    print(\"Greatest Increase in Profits:\", maxProfit, file=open(\"output.txt\", \"a\"))\n",
    "    print(\"Greatest Decrease in Profits:\", minProfit, file=open(\"output.txt\", \"a\"))"
   ]
  },
  {
   "cell_type": "code",
   "execution_count": null,
   "metadata": {},
   "outputs": [],
   "source": []
  }
 ],
 "metadata": {
  "kernelspec": {
   "display_name": "new_name",
   "language": "python",
   "name": "python3"
  },
  "language_info": {
   "codemirror_mode": {
    "name": "ipython",
    "version": 3
   },
   "file_extension": ".py",
   "mimetype": "text/x-python",
   "name": "python",
   "nbconvert_exporter": "python",
   "pygments_lexer": "ipython3",
   "version": "3.8.0"
  }
 },
 "nbformat": 4,
 "nbformat_minor": 2
}
